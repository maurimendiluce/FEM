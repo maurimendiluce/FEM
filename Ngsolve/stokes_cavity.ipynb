{
 "cells": [
  {
   "cell_type": "code",
   "execution_count": 1,
   "id": "14367486-b5e2-4627-b6ae-05b76eff4916",
   "metadata": {},
   "outputs": [],
   "source": [
    "from ngsolve import *\n",
    "import netgen.geom2d as geom2d\n",
    "from ngsolve.webgui import Draw\n",
    "from netgen.occ import *"
   ]
  },
  {
   "cell_type": "code",
   "execution_count": 2,
   "id": "37ab2196-e822-4197-9c97-d18bfcc00185",
   "metadata": {},
   "outputs": [
    {
     "data": {
      "application/vnd.jupyter.widget-view+json": {
       "model_id": "a4b7d35ed895483c9b7b4def0d18ba3b",
       "version_major": 2,
       "version_minor": 0
      },
      "text/plain": [
       "WebGuiWidget(layout=Layout(height='500px', width='100%'), value={'gui_settings': {}, 'ngsolve_version': '6.2.2…"
      ]
     },
     "metadata": {},
     "output_type": "display_data"
    },
    {
     "data": {
      "text/plain": [
       "BaseWebGuiScene"
      ]
     },
     "execution_count": 2,
     "metadata": {},
     "output_type": "execute_result"
    }
   ],
   "source": [
    "#genero la malla en el [0,1]x[0,1]\n",
    "\n",
    "geo = geom2d.SplineGeometry()\n",
    "p1 = geo.AppendPoint (0,0)\n",
    "p2 = geo.AppendPoint (1,0)\n",
    "p3 = geo.AppendPoint (1,1)\n",
    "p4 = geo.AppendPoint (0,1)\n",
    "\n",
    "\n",
    "geo.Append ([\"line\", p1, p2],bc = \"wall_1\")\n",
    "geo.Append ([\"line\", p2, p3],bc = \"wall_2\")\n",
    "geo.Append ([\"line\", p3, p4],bc = \"wall_3\")\n",
    "geo.Append ([\"line\", p4, p1],bc = \"wall_4\")\n",
    "\n",
    "mesh = Mesh(geo.GenerateMesh (maxh=0.05))\n",
    "#mesh.SplitElements_Alfeld()\n",
    "mesh.GetBoundaries()\n",
    "Draw(mesh)"
   ]
  },
  {
   "cell_type": "code",
   "execution_count": 3,
   "id": "8b24d7a6-b1fb-45ab-8bf0-88574234233a",
   "metadata": {},
   "outputs": [],
   "source": [
    "V = VectorH1(mesh, order=2, dirichlet=\"wall_1|wall_2|wall_3|wall_3\")\n",
    "Q = L2(mesh, order=1)\n",
    "X = V*Q"
   ]
  },
  {
   "cell_type": "code",
   "execution_count": 4,
   "id": "bb7bf0d4-a370-4fc0-a5f3-d2dd16385272",
   "metadata": {},
   "outputs": [],
   "source": [
    "(u,p),(v,q) = X.TnT()\n",
    "\n",
    "stokes = InnerProduct(Grad(u), Grad(v))*dx + div(u)*q*dx + div(v)*p*dx\n",
    "a = BilinearForm(stokes).Assemble()"
   ]
  },
  {
   "cell_type": "code",
   "execution_count": 5,
   "id": "637a5053-7cf6-4fe7-b11a-927f01a1a67d",
   "metadata": {},
   "outputs": [],
   "source": [
    "gf = GridFunction(X)\n",
    "uh, ph = gf.components\n",
    "\n",
    "g0 = CoefficientFunction((0,0))\n",
    "g1 = CoefficientFunction((1,0))\n",
    "uh.Set(g1, definedon=mesh.Boundaries(\"wall_3\"))\n",
    "uh.Set(g0, definedon=mesh.Boundaries(\"wall_1|wall_2|wall_4\"))"
   ]
  },
  {
   "cell_type": "code",
   "execution_count": 7,
   "id": "41e487f9-af43-47b6-b77c-b26ec4ae58ac",
   "metadata": {},
   "outputs": [
    {
     "name": "stderr",
     "output_type": "stream",
     "text": [
      "c:\\Users\\mauri\\anaconda3\\Lib\\site-packages\\netgen\\webgui.py:17: RuntimeWarning: overflow encountered in cast\n",
      "  values = np.array(data.flatten(), dtype=dtype)\n"
     ]
    },
    {
     "data": {
      "application/vnd.jupyter.widget-view+json": {
       "model_id": "df6b70d212de4b4485156a0b507f0a43",
       "version_major": 2,
       "version_minor": 0
      },
      "text/plain": [
       "WebGuiWidget(layout=Layout(height='500px', width='100%'), value={'gui_settings': {}, 'ngsolve_version': '6.2.2…"
      ]
     },
     "metadata": {},
     "output_type": "display_data"
    },
    {
     "data": {
      "text/plain": [
       "BaseWebGuiScene"
      ]
     },
     "execution_count": 7,
     "metadata": {},
     "output_type": "execute_result"
    }
   ],
   "source": [
    "res = -a.mat * gf.vec\n",
    "inv = a.mat.Inverse(freedofs=X.FreeDofs(),inverse=\"pardiso\")\n",
    "gf.vec.data += inv * res\n",
    "Draw(ph, mesh)"
   ]
  },
  {
   "cell_type": "code",
   "execution_count": null,
   "id": "8e4b78b6-af3e-4727-8b60-4bbad6f3ba99",
   "metadata": {},
   "outputs": [],
   "source": []
  }
 ],
 "metadata": {
  "kernelspec": {
   "display_name": "base",
   "language": "python",
   "name": "python3"
  },
  "language_info": {
   "codemirror_mode": {
    "name": "ipython",
    "version": 3
   },
   "file_extension": ".py",
   "mimetype": "text/x-python",
   "name": "python",
   "nbconvert_exporter": "python",
   "pygments_lexer": "ipython3",
   "version": "3.12.4"
  }
 },
 "nbformat": 4,
 "nbformat_minor": 5
}
