{
 "cells": [
  {
   "cell_type": "code",
   "execution_count": 1,
   "id": "4b61fd21-c35b-44c7-b335-14792c33cb02",
   "metadata": {},
   "outputs": [],
   "source": [
    "from ngsolve import *\n",
    "import netgen.geom2d as geom2d\n",
    "import netgen.gui\n",
    "%gui tk"
   ]
  },
  {
   "cell_type": "code",
   "execution_count": 21,
   "id": "c70b6b3c-cf75-4a76-91d8-b7a5a9a67945",
   "metadata": {},
   "outputs": [
    {
     "data": {
      "text/plain": [
       "('floor', 'wall', 'gamma_out', 'gamma_in', 'gamma_out', 'wall', 'wall', 'wall')"
      ]
     },
     "execution_count": 21,
     "metadata": {},
     "output_type": "execute_result"
    }
   ],
   "source": [
    "#genero la malla en el [0,1]x[0,1]\n",
    "\n",
    "geo = geom2d.SplineGeometry()\n",
    "p1 = geo.AppendPoint (0,0)\n",
    "p2 = geo.AppendPoint (1,0)\n",
    "p3 = geo.AppendPoint (1,0.5)\n",
    "p4 = geo.AppendPoint (1,0.6)\n",
    "p5 = geo.AppendPoint (1,0.8)\n",
    "p6 = geo.AppendPoint (1,0.9)\n",
    "p7 = geo.AppendPoint (1,1)\n",
    "p8 = geo.AppendPoint (0,1)\n",
    "\n",
    "geo.Append ([\"line\", p1, p2],bc = \"floor\")\n",
    "geo.Append ([\"line\", p2, p3],bc = \"wall\")\n",
    "geo.Append ([\"line\", p3, p4],bc = \"gamma_out\")\n",
    "geo.Append ([\"line\", p4, p5],bc = \"gamma_in\")\n",
    "geo.Append ([\"line\", p5, p6],bc = \"gamma_out\")\n",
    "geo.Append ([\"line\", p6, p7],bc = \"wall\")\n",
    "geo.Append ([\"line\", p7, p8],bc = \"wall\")\n",
    "geo.Append ([\"line\", p8, p1],bc = \"wall\")\n",
    "\n",
    "mesh = Mesh(geo.GenerateMesh (maxh=0.1))\n",
    "mesh.GetBoundaries()"
   ]
  },
  {
   "cell_type": "code",
   "execution_count": 18,
   "id": "a37e030b-4648-4b71-832b-79b6082cd777",
   "metadata": {},
   "outputs": [],
   "source": [
    "#for p in mesh.Points():\n",
    "# x,y,z = p.p\n",
    "# print (\"x = \", x, \"y = \", y)\n",
    "#for el in mesh.Elements2D():\n",
    "# print (el.vertices)"
   ]
  },
  {
   "cell_type": "code",
   "execution_count": null,
   "id": "fe4eda19-a5f3-4796-b4fc-ba8d2c411f18",
   "metadata": {},
   "outputs": [],
   "source": []
  }
 ],
 "metadata": {
  "kernelspec": {
   "display_name": "Python 3 (ipykernel)",
   "language": "python",
   "name": "python3"
  },
  "language_info": {
   "codemirror_mode": {
    "name": "ipython",
    "version": 3
   },
   "file_extension": ".py",
   "mimetype": "text/x-python",
   "name": "python",
   "nbconvert_exporter": "python",
   "pygments_lexer": "ipython3",
   "version": "3.12.4"
  }
 },
 "nbformat": 4,
 "nbformat_minor": 5
}
