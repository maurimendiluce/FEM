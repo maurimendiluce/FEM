{
 "cells": [
  {
   "cell_type": "markdown",
   "metadata": {},
   "source": [
    "# Navier-Stokes (cavity flow)"
   ]
  },
  {
   "cell_type": "code",
   "execution_count": 2,
   "metadata": {},
   "outputs": [],
   "source": [
    "#importamos los paquetes\n",
    "from ngsolve import *\n",
    "from ngsolve.webgui import *\n",
    "from netgen.occ import *\n",
    "import netgen.geom2d as geom2d"
   ]
  },
  {
   "cell_type": "code",
   "execution_count": 64,
   "metadata": {},
   "outputs": [],
   "source": [
    "def rectangle_mesh(a,b,c,d,h,graficar=True):\n",
    "    #funcion que genera una malla rectangular en el dominio [a,b]x[c,d]\n",
    "    geo = geom2d.SplineGeometry()\n",
    "    p1 = geo.AppendPoint (a,c)\n",
    "    p2 = geo.AppendPoint (b,c)\n",
    "    p3 = geo.AppendPoint (b,d)\n",
    "    p4 = geo.AppendPoint (a,d)\n",
    "\n",
    "    geo.Append ([\"line\", p1, p2],bc = \"bottom\")\n",
    "    geo.Append ([\"line\", p2, p3],bc = \"right\")\n",
    "    geo.Append ([\"line\", p3, p4],bc = \"top\")\n",
    "    geo.Append ([\"line\", p4, p1],bc = \"left\")\n",
    "\n",
    "    mesh = Mesh(geo.GenerateMesh (maxh=h))\n",
    "    #mesh.SplitElements_Alfeld()\n",
    "    #mesh.GetBoundaries()\n",
    "    if graficar == True:\n",
    "        Draw(mesh)\n",
    "    return mesh\n",
    "\n",
    "def solveStokes(nu,mesh,X,gfu,graficar=True):\n",
    "    (u,p,lam), (v,q,mu) = X.TnT()\n",
    "    a = BilinearForm(X)\n",
    "    stokes = (nu*InnerProduct(grad(u),grad(v))+div(u)*q-div(v)*p-lam*q-mu*p)*dx\n",
    "    a += stokes\n",
    "    a.Assemble()\n",
    "\n",
    "    f = LinearForm(X)\n",
    "    f.Assemble()\n",
    "\n",
    "    res = f.vec - a.mat*gfu.vec\n",
    "    inv_stokes = a.mat.Inverse(X.FreeDofs())\n",
    "    gfu.vec.data += inv_stokes * res\n",
    "    velocity, pressure, param = gfu.components\n",
    "    if graficar == True:\n",
    "        sceneu = Draw(velocity,mesh,\"u\")\n",
    "        scenep = Draw(pressure,mesh,\"p\")\n",
    "\n",
    "    return gfu\n",
    "\n",
    "def LinNS(nu,mesh,X,gfu,w):\n",
    "    (u,p,lam), (v,q,mu) = X.TnT()\n",
    "    a = BilinearForm(X)\n",
    "    LinNS = (nu*InnerProduct(grad(u),grad(v))+div(u)*q-div(v)*p+InnerProduct(grad(u)*w,v)+InnerProduct(grad(w)*u,v)-InnerProduct(grad(w)*w,v)-lam*q-mu*p)*dx\n",
    "    a += LinNS\n",
    "    a.Assemble()\n",
    "\n",
    "    f = LinearForm(X)\n",
    "    f.Assemble()\n",
    "\n",
    "    res = f.vec - a.mat*gfu.vec\n",
    "    inv_LinNS = a.mat.Inverse(X.FreeDofs())\n",
    "    gfu.vec.data += inv_LinNS * res\n",
    "\n",
    "    return gfu\n",
    "\n",
    "    "
   ]
  },
  {
   "cell_type": "code",
   "execution_count": 83,
   "metadata": {},
   "outputs": [
    {
     "data": {
      "text/plain": [
       "0.0"
      ]
     },
     "execution_count": 83,
     "metadata": {},
     "output_type": "execute_result"
    }
   ],
   "source": [
    "#defino la malla\n",
    "mesh = rectangle_mesh(0,1,0,1,1/16,graficar=False)\n",
    "#defino los espacios\n",
    "V = VectorH1(mesh, order=2, dirichlet=\"bottom|right|top|left\")\n",
    "Q = H1(mesh, order=1)\n",
    "N = NumberSpace(mesh)\n",
    "X = V*Q*N\n",
    "\n",
    "#Datos Dirichlet\n",
    "gfu = GridFunction(X)\n",
    "velocity = gfu.components[0]\n",
    "\n",
    "g = CoefficientFunction((1,0))\n",
    "velocity.Set(g, definedon=mesh.Boundaries(\"top\"))\n",
    "#Draw(velocity,mesh)\n",
    "#resuelvo Stokes\n",
    "#stokes_solution = solveStokes(0.1,mesh,X,gfu,graficar=False)\n",
    "\n",
    "#w = stokes_solution.components[0]\n",
    "w=velocity\n",
    "NS = LinNS(0.1,mesh,X,gfu,w)\n",
    "w1=NS.components[0]\n",
    "#Draw(w1,mesh)\n",
    "import numpy as np\n",
    "max(np.array(w.vec)-np.array(w1.vec))\n"
   ]
  },
  {
   "cell_type": "code",
   "execution_count": null,
   "metadata": {},
   "outputs": [],
   "source": []
  }
 ],
 "metadata": {
  "kernelspec": {
   "display_name": "base",
   "language": "python",
   "name": "python3"
  },
  "language_info": {
   "codemirror_mode": {
    "name": "ipython",
    "version": 3
   },
   "file_extension": ".py",
   "mimetype": "text/x-python",
   "name": "python",
   "nbconvert_exporter": "python",
   "pygments_lexer": "ipython3",
   "version": "3.12.4"
  }
 },
 "nbformat": 4,
 "nbformat_minor": 2
}
